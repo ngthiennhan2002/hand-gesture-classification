{
  "cells": [
    {
      "cell_type": "code",
      "execution_count": 1,
      "metadata": {
        "colab": {
          "base_uri": "https://localhost:8080/"
        },
        "id": "wzsz2pvebg7u",
        "outputId": "1f0ef2af-5c17-4edb-8ebe-c3b3aa9503d6"
      },
      "outputs": [
        {
          "output_type": "stream",
          "name": "stdout",
          "text": [
            "Drive already mounted at /content/drive; to attempt to forcibly remount, call drive.mount(\"/content/drive\", force_remount=True).\n"
          ]
        }
      ],
      "source": [
        "from google.colab import drive\n",
        "drive.mount('/content/drive')"
      ]
    },
    {
      "cell_type": "code",
      "execution_count": 2,
      "metadata": {
        "colab": {
          "base_uri": "https://localhost:8080/"
        },
        "id": "LrmNS_7QcCxY",
        "outputId": "c81b1b1d-23f0-4928-a402-4edb5f3bc523"
      },
      "outputs": [
        {
          "output_type": "stream",
          "name": "stdout",
          "text": [
            "Archive:  /content/drive/My Drive/Dataset/PetImages.zip\n",
            "replace /dataset/Cat/10.jpg? [y]es, [n]o, [A]ll, [N]one, [r]ename: "
          ]
        }
      ],
      "source": [
        "import tensorflow as tf\n",
        "from tensorflow.keras.preprocessing.image import ImageDataGenerator\n",
        "\n",
        "!unzip '/content/drive/My Drive/Dataset/PetImages.zip' -d '/dataset'"
      ]
    },
    {
      "cell_type": "code",
      "execution_count": 3,
      "metadata": {
        "id": "VAV3DWjOG_UA"
      },
      "outputs": [],
      "source": [
        "import sys\n",
        "import os\n",
        "import numpy as np\n",
        "from PIL import Image\n",
        "import string\n",
        "import matplotlib.pyplot as plt\n",
        "\n",
        "\n",
        "from tensorflow.keras.utils import img_to_array, load_img\n",
        "from tensorflow.keras import regularizers\n",
        "DATA_DIR = '/dataset'\n"
      ]
    },
    {
      "cell_type": "code",
      "execution_count": 4,
      "metadata": {
        "id": "pOLN_tTWHpWR"
      },
      "outputs": [],
      "source": [
        "def preprocessing():\n",
        "  datagen = ImageDataGenerator(\n",
        "      rescale=1./255,\n",
        "      # rotation_range=40,\n",
        "      # width_shift_range=0.2,\n",
        "      # height_shift_range=0.2,\n",
        "      # shear_range=0.2,\n",
        "      # zoom_range=0.2,\n",
        "      # horizontal_flip=True,\n",
        "      # fill_mode='nearest',\n",
        "      validation_split=0.2\n",
        "  )\n",
        "\n",
        "  train_generator = datagen.flow_from_directory(\n",
        "      DATA_DIR,\n",
        "      target_size=(150,150),\n",
        "      batch_size=64,\n",
        "      class_mode='binary',\n",
        "      subset='training'\n",
        "  )\n",
        "\n",
        "  validation_generator = datagen.flow_from_directory(\n",
        "      DATA_DIR,\n",
        "      target_size=(150,150),\n",
        "      batch_size=64,\n",
        "      class_mode='binary',\n",
        "      subset='validation'\n",
        "  )\n",
        "\n",
        "  return train_generator, validation_generator"
      ]
    },
    {
      "cell_type": "code",
      "execution_count": 5,
      "metadata": {
        "id": "3FkHAu0yIeus"
      },
      "outputs": [],
      "source": [
        "class mycallback(tf.keras.callbacks.Callback):\n",
        "  def on_epoch_end(self, epoch, logs=None):\n",
        "    if logs is None:\n",
        "      logs = {}\n",
        "    if logs.get('val_accuracy') >= 0.95:\n",
        "      print(f'Epoch {epoch}: Reached accuracy threshold')\n",
        "      self.model.stop_training = True"
      ]
    },
    {
      "cell_type": "code",
      "execution_count": 6,
      "metadata": {
        "id": "x_t0kUkXI19o"
      },
      "outputs": [],
      "source": [
        "def create_model():\n",
        "  model = tf.keras.models.Sequential([\n",
        "      tf.keras.layers.Conv2D(32, (3,3), activation='relu', kernel_regularizer=regularizers.l2(0.001), input_shape=(150, 150, 3)),\n",
        "        tf.keras.layers.MaxPooling2D(2,2),\n",
        "        tf.keras.layers.Dropout(0.2),\n",
        "        tf.keras.layers.Conv2D(64, (3,3), activation='relu', kernel_regularizer=regularizers.l2(0.001)),\n",
        "        tf.keras.layers.MaxPooling2D(2,2),\n",
        "        tf.keras.layers.Dropout(0.2),\n",
        "        tf.keras.layers.Conv2D(128, (3,3), activation='relu', kernel_regularizer=regularizers.l2(0.001)),\n",
        "        tf.keras.layers.MaxPooling2D(2,2),\n",
        "        tf.keras.layers.Dropout(0.2),\n",
        "\n",
        "        tf.keras.layers.Flatten(),\n",
        "        # tf.keras.layers.Dense(4096, activation='relu'),\n",
        "        # tf.keras.layers.Dropout(0.2),\n",
        "        # tf.keras.layers.Dense(2048, activation='relu'),\n",
        "        # tf.keras.layers.Dropout(0.2),\n",
        "        # tf.keras.layers.Dense(1024, activation='relu'),\n",
        "        # tf.keras.layers.Dropout(0.2),\n",
        "        # tf.keras.layers.Dense(512, activation='relu'),\n",
        "        # tf.keras.layers.Dropout(0.2),\n",
        "        # tf.keras.layers.Dense(256, activation='relu'),\n",
        "        # tf.keras.layers.Dropout(0.2),\n",
        "        tf.keras.layers.Dense(128, activation='relu'),\n",
        "        tf.keras.layers.Dropout(0.2),\n",
        "        tf.keras.layers.Dense(1, activation='sigmoid')\n",
        "  ])\n",
        "\n",
        "  model.compile(optimizer='adam',\n",
        "                loss='binary_crossentropy',\n",
        "                metrics=['accuracy'])\n",
        "\n",
        "  return model"
      ]
    },
    {
      "cell_type": "code",
      "execution_count": 16,
      "metadata": {
        "id": "b7hnTsZQJa9w"
      },
      "outputs": [],
      "source": [
        "def train():\n",
        "  train_generator, validation_generator = preprocessing()\n",
        "\n",
        "  callback = mycallback()\n",
        "\n",
        "  model = create_model()\n",
        "\n",
        "  history = model.fit(train_generator,\n",
        "                      epochs=100,\n",
        "                      batch_size=64,\n",
        "                      verbose=1,\n",
        "                      # callbacks=[tf.keras.callbacks.EarlyStopping(monitor='loss', patience=2), callback],\n",
        "                      callbacks=[callback],\n",
        "                      validation_data=validation_generator)\n",
        "\n",
        "  return model, history"
      ]
    },
    {
      "cell_type": "code",
      "execution_count": 19,
      "metadata": {
        "colab": {
          "base_uri": "https://localhost:8080/"
        },
        "id": "gQLOvBjlJ0M6",
        "outputId": "6b81b49c-1fad-4cfe-b8de-ffa053593842"
      },
      "outputs": [
        {
          "output_type": "stream",
          "name": "stdout",
          "text": [
            "Found 19998 images belonging to 2 classes.\n",
            "Found 4998 images belonging to 2 classes.\n",
            "Epoch 1/100\n",
            "  6/313 [..............................] - ETA: 26s - loss: 1.3903 - accuracy: 0.4688"
          ]
        },
        {
          "output_type": "stream",
          "name": "stderr",
          "text": [
            "WARNING:tensorflow:Callback method `on_train_batch_end` is slow compared to the batch time (batch time: 0.0392s vs `on_train_batch_end` time: 0.0393s). Check your callbacks.\n"
          ]
        },
        {
          "output_type": "stream",
          "name": "stdout",
          "text": [
            "313/313 [==============================] - 50s 154ms/step - loss: 0.7119 - accuracy: 0.6187 - val_loss: 0.6158 - val_accuracy: 0.6949\n",
            "Epoch 2/100\n",
            "313/313 [==============================] - 49s 157ms/step - loss: 0.5895 - accuracy: 0.7137 - val_loss: 0.5592 - val_accuracy: 0.7287\n",
            "Epoch 3/100\n",
            "313/313 [==============================] - 49s 155ms/step - loss: 0.5391 - accuracy: 0.7454 - val_loss: 0.5049 - val_accuracy: 0.7747\n",
            "Epoch 4/100\n",
            "313/313 [==============================] - 51s 162ms/step - loss: 0.4942 - accuracy: 0.7770 - val_loss: 0.4718 - val_accuracy: 0.7933\n",
            "Epoch 5/100\n",
            "313/313 [==============================] - 48s 153ms/step - loss: 0.4649 - accuracy: 0.7940 - val_loss: 0.4630 - val_accuracy: 0.7951\n",
            "Epoch 6/100\n",
            "313/313 [==============================] - 48s 154ms/step - loss: 0.4426 - accuracy: 0.8076 - val_loss: 0.4532 - val_accuracy: 0.8005\n",
            "Epoch 7/100\n",
            "313/313 [==============================] - 49s 155ms/step - loss: 0.4235 - accuracy: 0.8191 - val_loss: 0.4298 - val_accuracy: 0.8179\n",
            "Epoch 8/100\n",
            "313/313 [==============================] - 52s 165ms/step - loss: 0.4054 - accuracy: 0.8302 - val_loss: 0.4214 - val_accuracy: 0.8265\n",
            "Epoch 9/100\n",
            "313/313 [==============================] - 50s 160ms/step - loss: 0.3901 - accuracy: 0.8440 - val_loss: 0.4138 - val_accuracy: 0.8321\n",
            "Epoch 10/100\n",
            "313/313 [==============================] - 48s 154ms/step - loss: 0.3731 - accuracy: 0.8517 - val_loss: 0.4149 - val_accuracy: 0.8335\n",
            "Epoch 11/100\n",
            "313/313 [==============================] - 48s 153ms/step - loss: 0.3644 - accuracy: 0.8557 - val_loss: 0.4085 - val_accuracy: 0.8353\n",
            "Epoch 12/100\n",
            "313/313 [==============================] - 50s 159ms/step - loss: 0.3532 - accuracy: 0.8654 - val_loss: 0.4023 - val_accuracy: 0.8407\n",
            "Epoch 13/100\n",
            "313/313 [==============================] - 48s 154ms/step - loss: 0.3389 - accuracy: 0.8724 - val_loss: 0.4030 - val_accuracy: 0.8469\n",
            "Epoch 14/100\n",
            "313/313 [==============================] - 48s 153ms/step - loss: 0.3154 - accuracy: 0.8830 - val_loss: 0.3981 - val_accuracy: 0.8455\n",
            "Epoch 15/100\n",
            "313/313 [==============================] - 48s 154ms/step - loss: 0.3059 - accuracy: 0.8877 - val_loss: 0.4243 - val_accuracy: 0.8317\n",
            "Epoch 16/100\n",
            "313/313 [==============================] - 49s 156ms/step - loss: 0.2955 - accuracy: 0.8940 - val_loss: 0.4268 - val_accuracy: 0.8381\n",
            "Epoch 17/100\n",
            "313/313 [==============================] - 48s 154ms/step - loss: 0.2826 - accuracy: 0.9011 - val_loss: 0.4122 - val_accuracy: 0.8467\n",
            "Epoch 18/100\n",
            "313/313 [==============================] - 49s 157ms/step - loss: 0.2713 - accuracy: 0.9069 - val_loss: 0.4283 - val_accuracy: 0.8483\n",
            "Epoch 19/100\n",
            "313/313 [==============================] - 48s 154ms/step - loss: 0.2650 - accuracy: 0.9111 - val_loss: 0.4178 - val_accuracy: 0.8477\n",
            "Epoch 20/100\n",
            "313/313 [==============================] - 51s 164ms/step - loss: 0.2450 - accuracy: 0.9181 - val_loss: 0.4391 - val_accuracy: 0.8363\n",
            "Epoch 21/100\n",
            "313/313 [==============================] - 48s 153ms/step - loss: 0.2402 - accuracy: 0.9201 - val_loss: 0.4290 - val_accuracy: 0.8455\n",
            "Epoch 22/100\n",
            "313/313 [==============================] - 49s 155ms/step - loss: 0.2350 - accuracy: 0.9234 - val_loss: 0.4382 - val_accuracy: 0.8445\n",
            "Epoch 23/100\n",
            "313/313 [==============================] - 52s 165ms/step - loss: 0.2349 - accuracy: 0.9251 - val_loss: 0.4477 - val_accuracy: 0.8459\n",
            "Epoch 24/100\n",
            "313/313 [==============================] - 49s 156ms/step - loss: 0.2141 - accuracy: 0.9332 - val_loss: 0.4682 - val_accuracy: 0.8455\n",
            "Epoch 25/100\n",
            "313/313 [==============================] - 49s 157ms/step - loss: 0.2161 - accuracy: 0.9324 - val_loss: 0.4610 - val_accuracy: 0.8481\n",
            "Epoch 26/100\n",
            "313/313 [==============================] - 48s 154ms/step - loss: 0.2070 - accuracy: 0.9356 - val_loss: 0.4661 - val_accuracy: 0.8377\n",
            "Epoch 27/100\n",
            "313/313 [==============================] - 50s 159ms/step - loss: 0.2089 - accuracy: 0.9383 - val_loss: 0.4625 - val_accuracy: 0.8447\n",
            "Epoch 28/100\n",
            "313/313 [==============================] - 48s 153ms/step - loss: 0.1945 - accuracy: 0.9419 - val_loss: 0.4673 - val_accuracy: 0.8461\n",
            "Epoch 29/100\n",
            "313/313 [==============================] - 48s 154ms/step - loss: 0.1921 - accuracy: 0.9450 - val_loss: 0.4727 - val_accuracy: 0.8449\n",
            "Epoch 30/100\n",
            "313/313 [==============================] - 51s 164ms/step - loss: 0.1920 - accuracy: 0.9457 - val_loss: 0.5375 - val_accuracy: 0.8331\n",
            "Epoch 31/100\n",
            "313/313 [==============================] - 48s 154ms/step - loss: 0.1937 - accuracy: 0.9452 - val_loss: 0.5497 - val_accuracy: 0.8315\n",
            "Epoch 32/100\n",
            "313/313 [==============================] - 49s 156ms/step - loss: 0.1863 - accuracy: 0.9480 - val_loss: 0.5241 - val_accuracy: 0.8367\n",
            "Epoch 33/100\n",
            "313/313 [==============================] - 50s 159ms/step - loss: 0.1841 - accuracy: 0.9502 - val_loss: 0.4997 - val_accuracy: 0.8283\n",
            "Epoch 34/100\n",
            "313/313 [==============================] - 50s 161ms/step - loss: 0.1688 - accuracy: 0.9536 - val_loss: 0.5119 - val_accuracy: 0.8441\n",
            "Epoch 35/100\n",
            "313/313 [==============================] - 52s 167ms/step - loss: 0.1658 - accuracy: 0.9532 - val_loss: 0.5650 - val_accuracy: 0.8351\n",
            "Epoch 36/100\n",
            "313/313 [==============================] - 49s 156ms/step - loss: 0.1693 - accuracy: 0.9546 - val_loss: 0.5463 - val_accuracy: 0.8281\n",
            "Epoch 37/100\n",
            "313/313 [==============================] - 48s 155ms/step - loss: 0.1677 - accuracy: 0.9556 - val_loss: 0.5166 - val_accuracy: 0.8387\n",
            "Epoch 38/100\n",
            "313/313 [==============================] - 52s 165ms/step - loss: 0.1535 - accuracy: 0.9608 - val_loss: 0.5341 - val_accuracy: 0.8331\n",
            "Epoch 39/100\n",
            "313/313 [==============================] - 48s 155ms/step - loss: 0.1536 - accuracy: 0.9626 - val_loss: 0.5364 - val_accuracy: 0.8449\n",
            "Epoch 40/100\n",
            "313/313 [==============================] - 48s 154ms/step - loss: 0.1586 - accuracy: 0.9589 - val_loss: 0.5576 - val_accuracy: 0.8333\n",
            "Epoch 41/100\n",
            "313/313 [==============================] - 48s 154ms/step - loss: 0.1572 - accuracy: 0.9605 - val_loss: 0.5515 - val_accuracy: 0.8357\n",
            "Epoch 42/100\n",
            "313/313 [==============================] - 48s 153ms/step - loss: 0.1517 - accuracy: 0.9613 - val_loss: 0.5551 - val_accuracy: 0.8355\n",
            "Epoch 43/100\n",
            "313/313 [==============================] - 48s 153ms/step - loss: 0.1485 - accuracy: 0.9634 - val_loss: 0.5253 - val_accuracy: 0.8381\n",
            "Epoch 44/100\n",
            "313/313 [==============================] - 49s 155ms/step - loss: 0.1489 - accuracy: 0.9627 - val_loss: 0.5342 - val_accuracy: 0.8391\n",
            "Epoch 45/100\n",
            "313/313 [==============================] - 48s 155ms/step - loss: 0.1520 - accuracy: 0.9606 - val_loss: 0.5889 - val_accuracy: 0.8369\n",
            "Epoch 46/100\n",
            "313/313 [==============================] - 51s 162ms/step - loss: 0.1373 - accuracy: 0.9660 - val_loss: 0.5718 - val_accuracy: 0.8393\n",
            "Epoch 47/100\n",
            "313/313 [==============================] - 48s 153ms/step - loss: 0.1433 - accuracy: 0.9648 - val_loss: 0.5684 - val_accuracy: 0.8409\n",
            "Epoch 48/100\n",
            "313/313 [==============================] - 48s 154ms/step - loss: 0.1378 - accuracy: 0.9664 - val_loss: 0.5747 - val_accuracy: 0.8331\n",
            "Epoch 49/100\n",
            "313/313 [==============================] - 49s 156ms/step - loss: 0.1400 - accuracy: 0.9672 - val_loss: 0.5686 - val_accuracy: 0.8389\n",
            "Epoch 50/100\n",
            "313/313 [==============================] - 50s 160ms/step - loss: 0.1365 - accuracy: 0.9669 - val_loss: 0.5872 - val_accuracy: 0.8423\n",
            "Epoch 51/100\n",
            "313/313 [==============================] - 48s 152ms/step - loss: 0.1359 - accuracy: 0.9675 - val_loss: 0.6101 - val_accuracy: 0.8425\n",
            "Epoch 52/100\n",
            "313/313 [==============================] - 49s 156ms/step - loss: 0.1386 - accuracy: 0.9670 - val_loss: 0.5831 - val_accuracy: 0.8415\n",
            "Epoch 53/100\n",
            "313/313 [==============================] - 48s 153ms/step - loss: 0.1386 - accuracy: 0.9664 - val_loss: 0.5661 - val_accuracy: 0.8421\n",
            "Epoch 54/100\n",
            "313/313 [==============================] - 49s 156ms/step - loss: 0.1369 - accuracy: 0.9679 - val_loss: 0.5780 - val_accuracy: 0.8397\n",
            "Epoch 55/100\n",
            "313/313 [==============================] - 49s 158ms/step - loss: 0.1357 - accuracy: 0.9669 - val_loss: 0.5971 - val_accuracy: 0.8379\n",
            "Epoch 56/100\n",
            "313/313 [==============================] - 49s 155ms/step - loss: 0.1307 - accuracy: 0.9696 - val_loss: 0.5848 - val_accuracy: 0.8389\n",
            "Epoch 57/100\n",
            "313/313 [==============================] - 48s 153ms/step - loss: 0.1327 - accuracy: 0.9686 - val_loss: 0.6149 - val_accuracy: 0.8383\n",
            "Epoch 58/100\n",
            "313/313 [==============================] - 50s 160ms/step - loss: 0.1326 - accuracy: 0.9681 - val_loss: 0.5607 - val_accuracy: 0.8369\n",
            "Epoch 59/100\n",
            "313/313 [==============================] - 48s 152ms/step - loss: 0.1305 - accuracy: 0.9694 - val_loss: 0.5694 - val_accuracy: 0.8313\n",
            "Epoch 60/100\n",
            "313/313 [==============================] - 48s 152ms/step - loss: 0.1254 - accuracy: 0.9712 - val_loss: 0.6040 - val_accuracy: 0.8329\n",
            "Epoch 61/100\n",
            "313/313 [==============================] - 48s 153ms/step - loss: 0.1246 - accuracy: 0.9718 - val_loss: 0.6216 - val_accuracy: 0.8267\n",
            "Epoch 62/100\n",
            "313/313 [==============================] - 48s 153ms/step - loss: 0.1278 - accuracy: 0.9702 - val_loss: 0.5871 - val_accuracy: 0.8403\n",
            "Epoch 63/100\n",
            "313/313 [==============================] - 48s 153ms/step - loss: 0.1236 - accuracy: 0.9726 - val_loss: 0.5849 - val_accuracy: 0.8377\n",
            "Epoch 64/100\n",
            "313/313 [==============================] - 50s 161ms/step - loss: 0.1240 - accuracy: 0.9713 - val_loss: 0.5578 - val_accuracy: 0.8365\n",
            "Epoch 65/100\n",
            "313/313 [==============================] - 48s 154ms/step - loss: 0.1199 - accuracy: 0.9730 - val_loss: 0.6210 - val_accuracy: 0.8361\n",
            "Epoch 66/100\n",
            "313/313 [==============================] - 49s 155ms/step - loss: 0.1249 - accuracy: 0.9702 - val_loss: 0.5963 - val_accuracy: 0.8371\n",
            "Epoch 67/100\n",
            "313/313 [==============================] - 50s 160ms/step - loss: 0.1198 - accuracy: 0.9729 - val_loss: 0.6020 - val_accuracy: 0.8455\n",
            "Epoch 68/100\n",
            "313/313 [==============================] - 50s 161ms/step - loss: 0.1217 - accuracy: 0.9721 - val_loss: 0.6297 - val_accuracy: 0.8363\n",
            "Epoch 69/100\n",
            "313/313 [==============================] - 49s 156ms/step - loss: 0.1201 - accuracy: 0.9737 - val_loss: 0.5842 - val_accuracy: 0.8411\n",
            "Epoch 70/100\n",
            "313/313 [==============================] - 48s 154ms/step - loss: 0.1222 - accuracy: 0.9723 - val_loss: 0.6673 - val_accuracy: 0.8225\n",
            "Epoch 71/100\n",
            "313/313 [==============================] - 51s 161ms/step - loss: 0.1184 - accuracy: 0.9735 - val_loss: 0.5802 - val_accuracy: 0.8369\n",
            "Epoch 72/100\n",
            "313/313 [==============================] - 49s 156ms/step - loss: 0.1148 - accuracy: 0.9738 - val_loss: 0.6030 - val_accuracy: 0.8443\n",
            "Epoch 73/100\n",
            "313/313 [==============================] - 48s 154ms/step - loss: 0.1147 - accuracy: 0.9743 - val_loss: 0.6131 - val_accuracy: 0.8329\n",
            "Epoch 74/100\n",
            "313/313 [==============================] - 49s 155ms/step - loss: 0.1124 - accuracy: 0.9751 - val_loss: 0.6091 - val_accuracy: 0.8349\n",
            "Epoch 75/100\n",
            "313/313 [==============================] - 49s 156ms/step - loss: 0.1141 - accuracy: 0.9751 - val_loss: 0.5876 - val_accuracy: 0.8329\n",
            "Epoch 76/100\n",
            "313/313 [==============================] - 52s 167ms/step - loss: 0.1194 - accuracy: 0.9727 - val_loss: 0.6200 - val_accuracy: 0.8307\n",
            "Epoch 77/100\n",
            "313/313 [==============================] - 50s 159ms/step - loss: 0.1140 - accuracy: 0.9741 - val_loss: 0.6463 - val_accuracy: 0.8369\n",
            "Epoch 78/100\n",
            "313/313 [==============================] - 48s 154ms/step - loss: 0.1188 - accuracy: 0.9726 - val_loss: 0.5981 - val_accuracy: 0.8375\n",
            "Epoch 79/100\n",
            "313/313 [==============================] - 48s 155ms/step - loss: 0.1148 - accuracy: 0.9743 - val_loss: 0.6193 - val_accuracy: 0.8335\n",
            "Epoch 80/100\n",
            "313/313 [==============================] - 49s 155ms/step - loss: 0.1099 - accuracy: 0.9759 - val_loss: 0.6361 - val_accuracy: 0.8379\n",
            "Epoch 81/100\n",
            "313/313 [==============================] - 48s 153ms/step - loss: 0.1067 - accuracy: 0.9774 - val_loss: 0.6055 - val_accuracy: 0.8423\n",
            "Epoch 82/100\n",
            "313/313 [==============================] - 48s 154ms/step - loss: 0.1120 - accuracy: 0.9767 - val_loss: 0.6144 - val_accuracy: 0.8229\n",
            "Epoch 83/100\n",
            "313/313 [==============================] - 53s 168ms/step - loss: 0.1129 - accuracy: 0.9742 - val_loss: 0.6044 - val_accuracy: 0.8323\n",
            "Epoch 84/100\n",
            "313/313 [==============================] - 49s 155ms/step - loss: 0.1095 - accuracy: 0.9770 - val_loss: 0.6691 - val_accuracy: 0.8319\n",
            "Epoch 85/100\n",
            "313/313 [==============================] - 48s 154ms/step - loss: 0.1110 - accuracy: 0.9763 - val_loss: 0.6759 - val_accuracy: 0.8253\n",
            "Epoch 86/100\n",
            "313/313 [==============================] - 48s 154ms/step - loss: 0.1093 - accuracy: 0.9749 - val_loss: 0.6363 - val_accuracy: 0.8377\n",
            "Epoch 87/100\n",
            "313/313 [==============================] - 49s 155ms/step - loss: 0.1169 - accuracy: 0.9745 - val_loss: 0.6378 - val_accuracy: 0.8295\n",
            "Epoch 88/100\n",
            "313/313 [==============================] - 48s 155ms/step - loss: 0.1095 - accuracy: 0.9764 - val_loss: 0.6651 - val_accuracy: 0.8289\n",
            "Epoch 89/100\n",
            "313/313 [==============================] - 51s 164ms/step - loss: 0.1073 - accuracy: 0.9770 - val_loss: 0.6654 - val_accuracy: 0.8255\n",
            "Epoch 90/100\n",
            "313/313 [==============================] - 48s 154ms/step - loss: 0.1112 - accuracy: 0.9753 - val_loss: 0.6462 - val_accuracy: 0.8333\n",
            "Epoch 91/100\n",
            "313/313 [==============================] - 48s 152ms/step - loss: 0.1147 - accuracy: 0.9752 - val_loss: 0.6478 - val_accuracy: 0.8359\n",
            "Epoch 92/100\n",
            "313/313 [==============================] - 49s 155ms/step - loss: 0.1063 - accuracy: 0.9759 - val_loss: 0.6880 - val_accuracy: 0.8213\n",
            "Epoch 93/100\n",
            "313/313 [==============================] - 50s 158ms/step - loss: 0.1039 - accuracy: 0.9781 - val_loss: 0.6363 - val_accuracy: 0.8339\n",
            "Epoch 94/100\n",
            "313/313 [==============================] - 48s 153ms/step - loss: 0.1076 - accuracy: 0.9764 - val_loss: 0.6597 - val_accuracy: 0.8331\n",
            "Epoch 95/100\n",
            "313/313 [==============================] - 49s 158ms/step - loss: 0.1073 - accuracy: 0.9763 - val_loss: 0.6898 - val_accuracy: 0.8311\n",
            "Epoch 96/100\n",
            "313/313 [==============================] - 49s 158ms/step - loss: 0.1065 - accuracy: 0.9762 - val_loss: 0.6309 - val_accuracy: 0.8321\n",
            "Epoch 97/100\n",
            "313/313 [==============================] - 49s 157ms/step - loss: 0.1066 - accuracy: 0.9760 - val_loss: 0.6707 - val_accuracy: 0.8341\n",
            "Epoch 98/100\n",
            "313/313 [==============================] - 48s 153ms/step - loss: 0.1065 - accuracy: 0.9767 - val_loss: 0.6502 - val_accuracy: 0.8273\n",
            "Epoch 99/100\n",
            "313/313 [==============================] - 49s 157ms/step - loss: 0.1076 - accuracy: 0.9764 - val_loss: 0.6675 - val_accuracy: 0.8321\n",
            "Epoch 100/100\n",
            "313/313 [==============================] - 51s 164ms/step - loss: 0.1038 - accuracy: 0.9774 - val_loss: 0.6716 - val_accuracy: 0.8263\n"
          ]
        }
      ],
      "source": [
        "model, history = train()"
      ]
    },
    {
      "cell_type": "code",
      "execution_count": 9,
      "metadata": {
        "id": "2aMt7lrfK3C4"
      },
      "outputs": [],
      "source": [
        "accuracy = history.history['accuracy']\n",
        "val_accuracy = history.history['val_accuracy']\n",
        "loss = history.history['loss']\n",
        "val_loss = history.history['val_loss']"
      ]
    },
    {
      "cell_type": "code",
      "execution_count": 25,
      "metadata": {
        "id": "eDEqFD61K5jX"
      },
      "outputs": [],
      "source": [
        "def visualization(accuracy, val_accuracy, loss, val_loss):\n",
        "    epochs = range(len(accuracy))\n",
        "\n",
        "    fig, axes = plt.subplots(2, 1, figsize=(6, 6))\n",
        "\n",
        "    axes[0].plot(epochs, accuracy, 'r', label='Training accuracy')\n",
        "    axes[0].plot(epochs, val_accuracy, 'b', label='Validation accuracy')\n",
        "    axes[0].set_title('Train and validation accuracy')\n",
        "    axes[0].legend()\n",
        "\n",
        "    axes[1].plot(epochs, loss, 'r', label='Training loss')\n",
        "    axes[1].plot(epochs, val_loss, 'b', label='Validation loss')\n",
        "    axes[1].set_title('Train and validation loss')\n",
        "    axes[1].legend()\n",
        "\n",
        "    plt.tight_layout()\n",
        "    plt.show()"
      ]
    },
    {
      "cell_type": "code",
      "execution_count": 26,
      "metadata": {
        "id": "ajZ14FrEK6ke",
        "colab": {
          "base_uri": "https://localhost:8080/",
          "height": 607
        },
        "outputId": "9b7fdf13-93ba-4ade-e6f0-5f433d95c3d6"
      },
      "outputs": [
        {
          "output_type": "display_data",
          "data": {
            "text/plain": [
              "<Figure size 600x600 with 2 Axes>"
            ],
            "image/png": "[encoded data removed]"
          },
          "metadata": {}
        }
      ],
      "source": [
        "visualization(accuracy, val_accuracy, loss, val_loss)"
      ]
    },
    {
      "cell_type": "code",
      "source": [
        "model.summary()"
      ],
      "metadata": {
        "colab": {
          "base_uri": "https://localhost:8080/"
        },
        "id": "9YBc8T3dLhaD",
        "outputId": "d0730959-6848-4d4f-b636-061f9a428d16"
      },
      "execution_count": 27,
      "outputs": [
        {
          "output_type": "stream",
          "name": "stdout",
          "text": [
            "Model: \"sequential_2\"\n",
            "_________________________________________________________________\n",
            " Layer (type)                Output Shape              Param #   \n",
            "=================================================================\n",
            " conv2d_6 (Conv2D)           (None, 148, 148, 32)      896       \n",
            "                                                                 \n",
            " max_pooling2d_6 (MaxPoolin  (None, 74, 74, 32)        0         \n",
            " g2D)                                                            \n",
            "                                                                 \n",
            " dropout_8 (Dropout)         (None, 74, 74, 32)        0         \n",
            "                                                                 \n",
            " conv2d_7 (Conv2D)           (None, 72, 72, 64)        18496     \n",
            "                                                                 \n",
            " max_pooling2d_7 (MaxPoolin  (None, 36, 36, 64)        0         \n",
            " g2D)                                                            \n",
            "                                                                 \n",
            " dropout_9 (Dropout)         (None, 36, 36, 64)        0         \n",
            "                                                                 \n",
            " conv2d_8 (Conv2D)           (None, 34, 34, 128)       73856     \n",
            "                                                                 \n",
            " max_pooling2d_8 (MaxPoolin  (None, 17, 17, 128)       0         \n",
            " g2D)                                                            \n",
            "                                                                 \n",
            " dropout_10 (Dropout)        (None, 17, 17, 128)       0         \n",
            "                                                                 \n",
            " flatten_2 (Flatten)         (None, 36992)             0         \n",
            "                                                                 \n",
            " dense_4 (Dense)             (None, 128)               4735104   \n",
            "                                                                 \n",
            " dropout_11 (Dropout)        (None, 128)               0         \n",
            "                                                                 \n",
            " dense_5 (Dense)             (None, 1)                 129       \n",
            "                                                                 \n",
            "=================================================================\n",
            "Total params: 4828481 (18.42 MB)\n",
            "Trainable params: 4828481 (18.42 MB)\n",
            "Non-trainable params: 0 (0.00 Byte)\n",
            "_________________________________________________________________\n"
          ]
        }
      ]
    },
    {
      "cell_type": "markdown",
      "source": [
        "Params = (kích thước filter x kích thước filter x số lượng đầu vào + 1) x số lượng filter, với 1 * số lượng filter = số lượng bias\n",
        "1.   conv2d_6: (3 x 3 x 3 + 1) * 32 = 896\n",
        "2.   conv2d_7: (3 x 3 x 32 + 1) * 64 = 18496\n",
        "3.   conv2d_8: (3 x 3 x 64 + 1) * 128 = 73856\n",
        "4.   dense_4: (36992 + 1) * 128 = 4735103\n",
        "5.   dense_5: (128 + 1) * 1 = 129\n",
        "\n",
        "\n"
      ],
      "metadata": {
        "id": "wBo0xxzeXeGa"
      }
    }
  ],
  "metadata": {
    "accelerator": "GPU",
    "colab": {
      "provenance": []
    },
    "kernelspec": {
      "display_name": "Python 3",
      "name": "python3"
    },
    "language_info": {
      "name": "python"
    }
  },
  "nbformat": 4,
  "nbformat_minor": 0
}